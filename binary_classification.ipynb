{
  "nbformat": 4,
  "nbformat_minor": 0,
  "metadata": {
    "colab": {
      "name": "binary-classification.ipynb",
      "provenance": [],
      "collapsed_sections": [],
      "authorship_tag": "ABX9TyMoh33964/zOFVEJQmnJKLJ"
    },
    "kernelspec": {
      "name": "python3",
      "display_name": "Python 3"
    },
    "language_info": {
      "name": "python"
    }
  },
  "cells": [
    {
      "cell_type": "code",
      "execution_count": null,
      "metadata": {
        "id": "r92B0tHtCSgD"
      },
      "outputs": [],
      "source": [
        "#importando as bibliotecas usadas no projeto\n",
        "\n",
        "import pandas as pd \n",
        "from sklearn.model_selection import train_test_split\n",
        "import numpy as np\n",
        "import seaborn as sns\n",
        "from sklearn.metrics import confusion_matrix, accuracy_score \n",
        "import torch \n",
        "import torch.nn as nn"
      ]
    },
    {
      "cell_type": "markdown",
      "source": [
        "\n",
        "definindo nossas bases de dados"
      ],
      "metadata": {
        "id": "7uytpizV8cmZ"
      }
    },
    {
      "cell_type": "code",
      "source": [
        "np.random.seed(123)\n",
        "torch.manual_seed(123)"
      ],
      "metadata": {
        "id": "upntfwP6HO1B",
        "cellView": "code"
      },
      "execution_count": null,
      "outputs": []
    },
    {
      "cell_type": "code",
      "source": [
        "previsores = pd.read_csv('/content/entradas_breast.csv')#dados das features\n",
        "classe = pd.read_csv('/content/saidas_breast.csv')#dados de saida"
      ],
      "metadata": {
        "id": "u3FsxSYPJQ8r"
      },
      "execution_count": null,
      "outputs": []
    },
    {
      "cell_type": "code",
      "source": [
        "sns.countplot(classe['0']); #utilizando o grafico para verificar a relação entres 0 e 1 no conjunto de saida"
      ],
      "metadata": {
        "id": "FQovUUQGLKyD"
      },
      "execution_count": null,
      "outputs": []
    },
    {
      "cell_type": "code",
      "source": [
        "#dividindo os conjuntos previsores e classe em subconjuntos que serão usados para treinamento e para teste\n",
        "previsores_treinamento, previsores_teste, classe_treinamento, classe_teste = train_test_split(previsores,\n",
        "                                                                                              classe,\n",
        "                                                                                              test_size = 0.25)"
      ],
      "metadata": {
        "id": "KWkDDZfBLcRf"
      },
      "execution_count": null,
      "outputs": []
    },
    {
      "cell_type": "markdown",
      "source": [
        "Transformando os dados em tensores para poder usar no modelo"
      ],
      "metadata": {
        "id": "KCOpa7TO9YOI"
      }
    },
    {
      "cell_type": "code",
      "source": [
        "previsores_treinamento = torch.tensor(np.array(previsores_treinamento), dtype=torch.float)\n",
        "classe_treinamento = torch.tensor(np.array(classe_treinamento), dtype = torch.float)"
      ],
      "metadata": {
        "id": "IHKXTfVzOW8e"
      },
      "execution_count": null,
      "outputs": []
    },
    {
      "cell_type": "code",
      "source": [
        "#visualizando se foi convertido\n",
        "type(previsores_treinamento)"
      ],
      "metadata": {
        "colab": {
          "base_uri": "https://localhost:8080/"
        },
        "id": "g0jvjS2xOnoR",
        "outputId": "3a0f5e77-2422-48b2-8800-cd29ef46b920"
      },
      "execution_count": null,
      "outputs": [
        {
          "output_type": "execute_result",
          "data": {
            "text/plain": [
              "torch.Tensor"
            ]
          },
          "metadata": {},
          "execution_count": 20
        }
      ]
    },
    {
      "cell_type": "code",
      "source": [
        "type(classe_treinamento)"
      ],
      "metadata": {
        "colab": {
          "base_uri": "https://localhost:8080/"
        },
        "id": "xuRxG8H5O4t1",
        "outputId": "8b213ca3-2c25-41bd-a050-c2d75cc95f24"
      },
      "execution_count": null,
      "outputs": [
        {
          "output_type": "execute_result",
          "data": {
            "text/plain": [
              "torch.Tensor"
            ]
          },
          "metadata": {},
          "execution_count": 21
        }
      ]
    },
    {
      "cell_type": "code",
      "source": [
        "#cria nosso dataset de tensores usando os tensores de previsores e de saida (classe)\n",
        "dataset = torch.utils.data.TensorDataset(previsores_treinamento, classe_treinamento)"
      ],
      "metadata": {
        "id": "y8pc0pwNO6l7"
      },
      "execution_count": null,
      "outputs": []
    },
    {
      "cell_type": "code",
      "source": [
        "train_loader = torch.utils.data.DataLoader(dataset, batch_size=10, shuffle=True) #usado para carregar nosso conjunto de dados de forma simples\n",
        "#batch_size, que denota o número de amostras contidas em cada lote gerado.\n",
        "#shuffle. Se definido como True, obteremos uma nova ordem de exploração a cada passagem (ou apenas manteremos um esquema de exploração linear caso contrário)."
      ],
      "metadata": {
        "id": "yMcvttKiP9fG"
      },
      "execution_count": null,
      "outputs": []
    },
    {
      "cell_type": "markdown",
      "source": [
        "Construindo nosso modelo de treinamento"
      ],
      "metadata": {
        "id": "hGtawYHRIX2c"
      }
    },
    {
      "cell_type": "code",
      "source": [
        "#Como temos 30 colunas de features, usaremos 30 neuronios de entrada, usando 16 neuronios em cada hidden layer e diminuindo para um neuronio na camada de saida\n",
        "classificador = nn.Sequential(\n",
        "    nn.Linear(in_features=30, out_features=16),\n",
        "    nn.ReLU(),\n",
        "    nn.Linear(16, 16),\n",
        "    nn.ReLU(),\n",
        "    nn.Linear(16, 1),\n",
        "    nn.Sigmoid()\n",
        ")"
      ],
      "metadata": {
        "id": "RRQyIQSfQ6CH"
      },
      "execution_count": null,
      "outputs": []
    },
    {
      "cell_type": "code",
      "source": [
        "classificador.parameters #verificando se os parametros foram implementados corretamente"
      ],
      "metadata": {
        "colab": {
          "base_uri": "https://localhost:8080/"
        },
        "id": "TuJoplyH-9dR",
        "outputId": "f07dff56-3c30-4ddd-80bb-ad082259db7e"
      },
      "execution_count": null,
      "outputs": [
        {
          "output_type": "execute_result",
          "data": {
            "text/plain": [
              "<bound method Module.parameters of Sequential(\n",
              "  (0): Linear(in_features=30, out_features=16, bias=True)\n",
              "  (1): ReLU()\n",
              "  (2): Linear(in_features=16, out_features=16, bias=True)\n",
              "  (3): ReLU()\n",
              "  (4): Linear(in_features=16, out_features=1, bias=True)\n",
              "  (5): Sigmoid()\n",
              ")>"
            ]
          },
          "metadata": {},
          "execution_count": 27
        }
      ]
    },
    {
      "cell_type": "code",
      "source": [
        "criterion = nn.BCELoss() #definindo a função de perda"
      ],
      "metadata": {
        "id": "-upglcid_Ioz"
      },
      "execution_count": null,
      "outputs": []
    },
    {
      "cell_type": "code",
      "source": [
        "#metodo para atualizar os hiperparametros que podem reduzir as perdas\n",
        "optimizer = torch.optim.Adam(classificador.parameters(), lr=0.001, weight_decay=0.0001)"
      ],
      "metadata": {
        "id": "HgHf46NB_zn5"
      },
      "execution_count": null,
      "outputs": []
    },
    {
      "cell_type": "markdown",
      "source": [
        "Treinamento do modelo"
      ],
      "metadata": {
        "id": "Fo7B0qwqAwZF"
      }
    },
    {
      "cell_type": "code",
      "source": [
        "for epoch in range(100): #definindo quantas vezes será feito um forward pass e um backward pass(loop)\n",
        "  running_loss = 0.\n",
        "\n",
        "  for data in train_loader:#para cada dado no nosso dataset\n",
        "    inputs, labels = data \n",
        "    #print(inputs)\n",
        "    #print('-----')\n",
        "    #print(labels)\n",
        "    optimizer.zero_grad() #zera os parametros gradientes\n",
        "\n",
        "    outputs = classificador(inputs)\n",
        "    #print(outputs)\n",
        "    loss = criterion(outputs, labels) #computa a perda\n",
        "    #print(loss)\n",
        "    loss.backward()#faz o backpropagation com a perda\n",
        "    optimizer.step()#ajusta os parametros baseado nos calculos\n",
        "\n",
        "    running_loss += loss.item()\n",
        "  print('Época %3d: perda %.5f' % (epoch+1, running_loss/len(train_loader)))"
      ],
      "metadata": {
        "id": "roRymEfdA0Fy"
      },
      "execution_count": null,
      "outputs": []
    },
    {
      "cell_type": "markdown",
      "source": [
        "Visualização dos pesos"
      ],
      "metadata": {
        "id": "0MW9VXQvDDqe"
      }
    },
    {
      "cell_type": "code",
      "source": [
        "params = list(classificador.parameters())\n",
        "#coloca os parametros em uma lista"
      ],
      "metadata": {
        "id": "GlV4XCfVDLK5"
      },
      "execution_count": null,
      "outputs": []
    },
    {
      "cell_type": "code",
      "source": [
        "params #printa os parametros"
      ],
      "metadata": {
        "id": "ZCA_tJGWDb6D"
      },
      "execution_count": null,
      "outputs": []
    },
    {
      "cell_type": "code",
      "source": [
        "pesos0 = params[0]\n",
        "pesos0.shape"
      ],
      "metadata": {
        "id": "8GyqW96NEt4Z"
      },
      "execution_count": null,
      "outputs": []
    },
    {
      "cell_type": "code",
      "source": [
        "print(pesos0)"
      ],
      "metadata": {
        "id": "2cOiyziMEy2-"
      },
      "execution_count": null,
      "outputs": []
    },
    {
      "cell_type": "code",
      "source": [
        "bias0 = params[1]\n",
        "bias0.shape"
      ],
      "metadata": {
        "id": "-vGY72GTE15L"
      },
      "execution_count": null,
      "outputs": []
    },
    {
      "cell_type": "code",
      "source": [
        "pesos1 = params[2]\n",
        "pesos1.shape"
      ],
      "metadata": {
        "id": "RE3UlBMzE4-7"
      },
      "execution_count": null,
      "outputs": []
    },
    {
      "cell_type": "code",
      "source": [
        "bias1 = params[3]\n",
        "bias1.shape"
      ],
      "metadata": {
        "id": "m656y5OFE7kP"
      },
      "execution_count": null,
      "outputs": []
    },
    {
      "cell_type": "markdown",
      "source": [
        "Avaliando o modelo"
      ],
      "metadata": {
        "id": "KhN3yDUdFVBp"
      }
    },
    {
      "cell_type": "code",
      "source": [
        "classificador.eval()#Define o modelo no modo de avaliação (inferência)"
      ],
      "metadata": {
        "id": "khx-KGzSFYHX"
      },
      "execution_count": null,
      "outputs": []
    },
    {
      "cell_type": "code",
      "source": [
        "previsores_teste = torch.tensor(np.array(previsores_teste), dtype=torch.float)"
      ],
      "metadata": {
        "id": "bFQpTDDXF01O"
      },
      "execution_count": null,
      "outputs": []
    },
    {
      "cell_type": "code",
      "source": [
        "type(previsores_teste)"
      ],
      "metadata": {
        "colab": {
          "base_uri": "https://localhost:8080/"
        },
        "id": "Rp1S5ceIGQdX",
        "outputId": "679d0b0f-cbdb-4100-8c55-4f4715ef1c00"
      },
      "execution_count": null,
      "outputs": [
        {
          "output_type": "execute_result",
          "data": {
            "text/plain": [
              "torch.Tensor"
            ]
          },
          "metadata": {},
          "execution_count": 49
        }
      ]
    },
    {
      "cell_type": "code",
      "source": [
        "# “encadeia” as saídas às entradas sequencialmente para cada módulo, retornando a saida do ultimo modulo\n",
        "previsoes = classificador.forward(previsores_teste)"
      ],
      "metadata": {
        "id": "iGwtIZsaGT53"
      },
      "execution_count": null,
      "outputs": []
    },
    {
      "cell_type": "code",
      "source": [
        "previsoes"
      ],
      "metadata": {
        "id": "SXyS_U7PHB5K"
      },
      "execution_count": null,
      "outputs": []
    },
    {
      "cell_type": "code",
      "source": [
        "previsoes = np.array(previsoes > 0.5) #coloca em um array as previsoes que foram maior que 0.5 (como true ou false)\n",
        "previsoes"
      ],
      "metadata": {
        "id": "Id1Ss-LgHFM0"
      },
      "execution_count": null,
      "outputs": []
    },
    {
      "cell_type": "code",
      "source": [
        "#definindo a taxa de acerto do modelo comparando a classe de teste e as previsoes\n",
        "taxa_acerto = accuracy_score(classe_teste, previsoes)\n",
        "taxa_acerto"
      ],
      "metadata": {
        "id": "jxCjdamKHjU-"
      },
      "execution_count": null,
      "outputs": []
    },
    {
      "cell_type": "code",
      "source": [
        "#gera a matriz de confusao\n",
        "matriz = confusion_matrix(classe_teste, previsoes)\n",
        "matriz"
      ],
      "metadata": {
        "id": "v4PuMol8Htxg"
      },
      "execution_count": null,
      "outputs": []
    },
    {
      "cell_type": "code",
      "source": [
        "#gera um mapa de calor a partir da matriz\n",
        "sns.heatmap(matriz, annot=True);"
      ],
      "metadata": {
        "id": "UFD11kZtH3mt"
      },
      "execution_count": null,
      "outputs": []
    }
  ]
}